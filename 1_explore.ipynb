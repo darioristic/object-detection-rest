{
 "cells": [
  {
   "cell_type": "markdown",
   "metadata": {},
   "source": [
    "# Exploratory Data Science\n",
    "\n",
    "Data exploration and understanding the task at hand is a fundamental step in the Machine Learning workflow.\n",
    "In this notebook, we'll take an opportunity to explore the use case, data and models we'll be using.\n",
    "\n",
    "We have been tasked with developing an application which can identify objects in static and live images. In this notebook we use a pre-trained machine learning model, and explore how it works on static photos. \n",
    "\n",
    "To begin, we install and import a range of python packages:"
   ]
  },
  {
   "cell_type": "code",
   "execution_count": null,
   "metadata": {},
   "outputs": [],
   "source": [
    "!pip install onnxruntime"
   ]
  },
  {
   "cell_type": "code",
   "execution_count": null,
   "metadata": {},
   "outputs": [],
   "source": [
    "from os import environ\n",
    "\n",
    "import numpy as np\n",
    "from onnxruntime import InferenceSession\n",
    "from PIL import Image, ImageColor, ImageDraw, ImageFont\n",
    "\n",
    "from classes import classes\n",
    "\n",
    "\n",
    "print('Imported libraries')"
   ]
  },
  {
   "cell_type": "markdown",
   "metadata": {},
   "source": [
    "## Import our image\n",
    "\n",
    "In the next cell we import the image we want to test our model on."
   ]
  },
  {
   "cell_type": "code",
   "execution_count": null,
   "metadata": {},
   "outputs": [],
   "source": [
    "sample_image = 'sample-images/cat.jpg'\n",
    "sample = Image.open(sample_image)\n",
    "sample"
   ]
  },
  {
   "cell_type": "markdown",
   "metadata": {},
   "source": [
    "This image shows a cat. We need to import the image as an array so the ONNX model we will use can process the image."
   ]
  },
  {
   "cell_type": "code",
   "execution_count": null,
   "metadata": {},
   "outputs": [],
   "source": [
    "def transform(image):\n",
    "    model_image_size = (416, 416)\n",
    "    boxed_image = letterbox_image(image, tuple(reversed(model_image_size)))\n",
    "    image_data = np.array(boxed_image, dtype='float32')\n",
    "    image_data /= 255.\n",
    "    image_data = np.transpose(image_data, [2, 0, 1])\n",
    "    image_data = np.expand_dims(image_data, 0)\n",
    "    return image_data\n",
    "\n",
    "\n",
    "def letterbox_image(image, size):\n",
    "    '''resize image with unchanged aspect ratio using padding'''\n",
    "    iw, ih = image.size\n",
    "    w, h = size\n",
    "    scale = min(w/iw, h/ih)\n",
    "    nw = int(iw*scale)\n",
    "    nh = int(ih*scale)\n",
    "\n",
    "    image = image.resize((nw, nh), Image.Resampling.BICUBIC)\n",
    "    new_image = Image.new('RGB', size, (128, 128, 128))\n",
    "    new_image.paste(image, ((w-nw)//2, (h-nh)//2))\n",
    "    return new_image"
   ]
  },
  {
   "cell_type": "code",
   "execution_count": null,
   "metadata": {
    "tags": []
   },
   "outputs": [],
   "source": [
    "converted_image = transform(sample)\n",
    "converted_image"
   ]
  },
  {
   "cell_type": "markdown",
   "metadata": {},
   "source": [
    "## Load in a model\n",
    "\n",
    "The model we are going to use today is the Tiny YOLO v3 model, which you can download from the ONNX Model Zoo [here](https://github.com/onnx/models/tree/main/vision/object_detection_segmentation/tiny-yolov3). The model has been trained on the [COCO](https://cocodataset.org/#home) data set, and can recognise 80 types of objects. We begin by loading in the model.\n",
    "\n",
    "The model is stored in an s3 bucket, and we connect to it using the `boto3` library. The `boto3` library was built into the object detection notebook image, which we selected from the spawner page. As such, it is already installed in our environment."
   ]
  },
  {
   "cell_type": "code",
   "execution_count": null,
   "metadata": {},
   "outputs": [],
   "source": [
    "import boto3\n",
    "\n",
    "s3_endpoint_url = environ.get('AWS_S3_ENDPOINT')\n",
    "s3_access_key = environ.get('AWS_ACCESS_KEY_ID')\n",
    "s3_secret_key = environ.get('AWS_SECRET_ACCESS_KEY')\n",
    "\n",
    "print('Imported s3 library')"
   ]
  },
  {
   "cell_type": "markdown",
   "metadata": {},
   "source": [
    "You will use a dedicated S3 bucket that was provisioned for you with your user ID, so let's set the S3 bucket name accordingly."
   ]
  },
  {
   "cell_type": "code",
   "execution_count": null,
   "metadata": {},
   "outputs": [],
   "source": [
    "s3_bucket_name = 'dogs'"
   ]
  },
  {
   "cell_type": "code",
   "execution_count": null,
   "metadata": {},
   "outputs": [],
   "source": [
    "s3 = boto3.client(\n",
    "    's3', endpoint_url=s3_endpoint_url,\n",
    "    aws_access_key_id=s3_access_key, aws_secret_access_key=s3_secret_key,\n",
    ")\n",
    "s3.download_file(s3_bucket_name, 'tiny-yolov3-11.onnx', 'model.onnx')\n",
    "\n",
    "print('Downloaded model.')"
   ]
  },
  {
   "cell_type": "markdown",
   "metadata": {},
   "source": [
    "You should be able to see that this file has been added to your file directory on the left hand side of the screen.\n",
    "\n",
    "Let's now use the model to run object detection on our sample image."
   ]
  },
  {
   "cell_type": "code",
   "execution_count": null,
   "metadata": {
    "tags": []
   },
   "outputs": [],
   "source": [
    "session = InferenceSession('model.onnx')\n",
    "raw_result = session.run(\n",
    "    [], {'input_1': converted_image, 'image_shape': [[416, 416]]}\n",
    ")\n",
    "raw_result"
   ]
  },
  {
   "cell_type": "code",
   "execution_count": null,
   "metadata": {},
   "outputs": [],
   "source": [
    "def postprocess(raw_boxes, raw_scores, raw_class_indices):\n",
    "    boxes, scores, detected_classes = [], [], []\n",
    "    for raw_indices in raw_class_indices[0]:\n",
    "        detected_classes.append(classes[raw_indices[1]])\n",
    "        scores.append(raw_scores[tuple(raw_indices)])\n",
    "        indices = (raw_indices[0], raw_indices[2])\n",
    "        boxes.append(raw_boxes[indices])\n",
    "\n",
    "    return boxes, scores, detected_classes"
   ]
  },
  {
   "cell_type": "code",
   "execution_count": null,
   "metadata": {},
   "outputs": [],
   "source": [
    "result = postprocess(*raw_result)\n",
    "result"
   ]
  },
  {
   "cell_type": "markdown",
   "metadata": {},
   "source": [
    "The model has returned arrays, each of which holds information about the detected objects. The information includes identifiers for the types of objects, coordinates locating the objects within the image, and detection scores, corresponding to how certain the model is about its prediction.\n",
    "\n",
    "We can use a few functions to help us to superimpose the information in this dictionary onto the original image."
   ]
  },
  {
   "cell_type": "code",
   "execution_count": null,
   "metadata": {},
   "outputs": [],
   "source": [
    "def draw_boxes(image, boxes, scores, classes):\n",
    "    \"\"\"Overlay labeled boxes on an image with formatted scores and label names.\"\"\"\n",
    "    colors = list(ImageColor.colormap.values())\n",
    "    class_colors = {}\n",
    "    font = ImageFont.load_default()\n",
    "    image_pil = Image.open(image)\n",
    "\n",
    "    for index, class_ in enumerate(classes):\n",
    "        box = boxes[index]\n",
    "        display_str = f'{class_}: {int(100 * scores[index])}%'\n",
    "        if class_ not in class_colors:\n",
    "            class_colors[class_] = colors[hash(class_) * 8 % len(colors)]\n",
    "        color = class_colors.get(class_)\n",
    "        _draw_bounding_box_on_image(\n",
    "            image_pil, box[0], box[1], box[2], box[3], color, font,\n",
    "            display_str_list=[display_str]\n",
    "        )\n",
    "    return image_pil\n",
    "    image_pil.show()\n",
    "\n",
    "\n",
    "def _draw_bounding_box_on_image(\n",
    "        image, ymin, xmin, ymax, xmax, color, font,\n",
    "        thickness=4, display_str_list=()):\n",
    "    \"\"\"Adds a bounding box to an image.\"\"\"\n",
    "    draw = ImageDraw.Draw(image)\n",
    "    im_width, im_height = image.size\n",
    "    width_scaling_factor = im_width / 416\n",
    "    height_scaling_factor = im_height / 416\n",
    "    (left, right, top, bottom) = (\n",
    "        xmin * width_scaling_factor,\n",
    "        xmax * width_scaling_factor,\n",
    "        ymin * height_scaling_factor,\n",
    "        ymax * height_scaling_factor,\n",
    "    )\n",
    "    draw.line([(left, top), (left, bottom), (right, bottom), (right, top),\n",
    "               (left, top)], width=thickness, fill=color)\n",
    "\n",
    "    display_str_heights = [font.getbbox(ds)[3] for ds in display_str_list]\n",
    "    total_display_str_height = (1 + 2 * 0.05) * sum(display_str_heights)\n",
    "    if top > total_display_str_height:\n",
    "        text_bottom = top\n",
    "    else:\n",
    "        text_bottom = top + total_display_str_height\n",
    "\n",
    "    for display_str in display_str_list[::-1]:\n",
    "        _, _, text_width, text_height = font.getbbox(display_str)\n",
    "        margin = np.ceil(0.05 * text_height)\n",
    "        draw.rectangle([(left, text_bottom - text_height - 2 * margin),\n",
    "                        (left + text_width, text_bottom)], fill=color)\n",
    "        draw.text((left + margin, text_bottom - text_height - margin),\n",
    "                  display_str, fill=\"black\", font=font)\n",
    "        text_bottom -= text_height - 2 * margin\n",
    "\n",
    "\n",
    "print('Defined image display functions')"
   ]
  },
  {
   "cell_type": "code",
   "execution_count": null,
   "metadata": {},
   "outputs": [],
   "source": [
    "def draw_boxes(image, boxes, scores, classes):\n",
    "    \"\"\"Overlay labeled boxes on an image with formatted scores and label names.\"\"\"\n",
    "    colors = list(ImageColor.colormap.values())\n",
    "    class_colors = {}\n",
    "    font = ImageFont.load_default()\n",
    "    image_pil = Image.open(image)\n",
    "\n",
    "    for index, class_ in enumerate(classes):\n",
    "        box = boxes[index]\n",
    "        display_str = f'{class_}: {int(100 * scores[index])}%'\n",
    "        if class_ not in class_colors:\n",
    "            class_colors[class_] = colors[hash(class_) * 8 % len(colors)]\n",
    "        color = class_colors.get(class_)\n",
    "        _draw_bounding_box_on_image(\n",
    "            image_pil, box[0], box[1], box[2], box[3], color, font,\n",
    "            display_str_list=[display_str]\n",
    "        )\n",
    "    return image_pil\n",
    "    image_pil.show()\n",
    "\n",
    "\n",
    "def _draw_bounding_box_on_image(\n",
    "        image, ymin, xmin, ymax, xmax, color, font,\n",
    "        thickness=4, display_str_list=()):\n",
    "    \"\"\"Adds a bounding box to an image.\"\"\"\n",
    "    draw = ImageDraw.Draw(image)\n",
    "    im_width, im_height = image.size\n",
    "    width_scaling_factor = im_width / 416\n",
    "    height_scaling_factor = im_height / 416\n",
    "    (left, right, top, bottom) = (\n",
    "        xmin * width_scaling_factor,\n",
    "        xmax * width_scaling_factor,\n",
    "        ymin * height_scaling_factor,\n",
    "        ymax * height_scaling_factor,\n",
    "    )\n",
    "    draw.line([(left, top), (left, bottom), (right, bottom), (right, top),\n",
    "               (left, top)], width=thickness, fill=color)\n",
    "\n",
    "    display_str_heights = [font.getbbox(ds)[3] for ds in display_str_list]\n",
    "    total_display_str_height = (1 + 2 * 0.05) * sum(display_str_heights)\n",
    "    if top > total_display_str_height:\n",
    "        text_bottom = top\n",
    "    else:\n",
    "        text_bottom = top + total_display_str_height\n",
    "\n",
    "    for display_str in display_str_list[::-1]:\n",
    "        _, _, text_width, text_height = font.getbbox(display_str)\n",
    "        margin = np.ceil(0.05 * text_height)\n",
    "        draw.rectangle([(left, text_bottom - text_height - 2 * margin),\n",
    "                        (left + text_width, text_bottom)], fill=color)\n",
    "        draw.text((left + margin, text_bottom - text_height - margin),\n",
    "                  display_str, fill=\"black\", font=font)\n",
    "        text_bottom -= text_height - 2 * margin\n",
    "\n",
    "\n",
    "print('Defined image display functions')"
   ]
  },
  {
   "cell_type": "code",
   "execution_count": null,
   "metadata": {},
   "outputs": [],
   "source": [
    "def draw_boxes(image, boxes, scores, classes):\n",
    "    \"\"\"Overlay labeled boxes on an image with formatted scores and label names.\"\"\"\n",
    "    colors = list(ImageColor.colormap.values())\n",
    "    class_colors = {}\n",
    "    font = ImageFont.load_default()\n",
    "    image_pil = Image.open(image)\n",
    "\n",
    "    for index, class_ in enumerate(classes):\n",
    "        box = boxes[index]\n",
    "        display_str = f'{class_}: {int(100 * scores[index])}%'\n",
    "        if class_ not in class_colors:\n",
    "            class_colors[class_] = colors[hash(class_) * 8 % len(colors)]\n",
    "        color = class_colors.get(class_)\n",
    "        _draw_bounding_box_on_image(\n",
    "            image_pil, box[0], box[1], box[2], box[3], color, font,\n",
    "            display_str_list=[display_str]\n",
    "        )\n",
    "    return image_pil\n",
    "    image_pil.show()\n",
    "\n",
    "\n",
    "def _draw_bounding_box_on_image(\n",
    "        image, ymin, xmin, ymax, xmax, color, font,\n",
    "        thickness=4, display_str_list=()):\n",
    "    \"\"\"Adds a bounding box to an image.\"\"\"\n",
    "    draw = ImageDraw.Draw(image)\n",
    "    im_width, im_height = image.size\n",
    "    width_scaling_factor = im_width / 416\n",
    "    height_scaling_factor = im_height / 416\n",
    "    (left, right, top, bottom) = (\n",
    "        xmin * width_scaling_factor,\n",
    "        xmax * width_scaling_factor,\n",
    "        ymin * height_scaling_factor,\n",
    "        ymax * height_scaling_factor,\n",
    "    )\n",
    "    draw.line([(left, top), (left, bottom), (right, bottom), (right, top),\n",
    "               (left, top)], width=thickness, fill=color)\n",
    "\n",
    "    display_str_heights = [font.getbbox(ds)[3] for ds in display_str_list]\n",
    "    total_display_str_height = (1 + 2 * 0.05) * sum(display_str_heights)\n",
    "    if top > total_display_str_height:\n",
    "        text_bottom = top\n",
    "    else:\n",
    "        text_bottom = top + total_display_str_height\n",
    "\n",
    "    for display_str in display_str_list[::-1]:\n",
    "        _, _, text_width, text_height = font.getbbox(display_str)\n",
    "        margin = np.ceil(0.05 * text_height)\n",
    "        draw.rectangle([(left, text_bottom - text_height - 2 * margin),\n",
    "                        (left + text_width, text_bottom)], fill=color)\n",
    "        draw.text((left + margin, text_bottom - text_height - margin),\n",
    "                  display_str, fill=\"black\", font=font)\n",
    "        text_bottom -= text_height - 2 * margin\n",
    "\n",
    "\n",
    "print('Defined image display functions')"
   ]
  },
  {
   "cell_type": "code",
   "execution_count": null,
   "metadata": {},
   "outputs": [],
   "source": [
    "draw_boxes(sample_image, *result)"
   ]
  },
  {
   "cell_type": "markdown",
   "metadata": {},
   "source": [
    "Fantastic! So you've seen how we can use a pre-trained model to identify objects in images. In the next notebooks, we will deploy this model using RHODS Model Serving, which allows us to use it as part of a larger application."
   ]
  },
  {
   "cell_type": "code",
   "execution_count": null,
   "metadata": {},
   "outputs": [],
   "source": []
  },
  {
   "cell_type": "code",
   "execution_count": null,
   "metadata": {},
   "outputs": [],
   "source": []
  }
 ],
 "metadata": {
  "celltoolbar": "Raw Cell Format",
  "kernelspec": {
   "display_name": "Python 3.9.16",
   "language": "python",
   "name": "python3"
  },
  "language_info": {
   "codemirror_mode": {
    "name": "ipython",
    "version": 3
   },
   "file_extension": ".py",
   "mimetype": "text/x-python",
   "name": "python",
   "nbconvert_exporter": "python",
   "pygments_lexer": "ipython3",
   "version": "3.9.16"
  }
 },
 "nbformat": 4,
 "nbformat_minor": 4
}
